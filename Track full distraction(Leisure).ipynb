{
 "cells": [
  {
   "cell_type": "code",
   "execution_count": 1,
   "id": "32acc8d7-99be-4922-be42-cf32cd7f436b",
   "metadata": {},
   "outputs": [
    {
     "name": "stdout",
     "output_type": "stream",
     "text": [
      "User returned to balanced content. Resetting full distraction tracking.\n",
      "User started slipping into full distraction at Sun Mar  2 15:07:44 2025\n"
     ]
    }
   ],
   "source": [
    "import time\n",
    "\n",
    "# Global variables to track distraction state\n",
    "full_distraction_start_time = None\n",
    "fully_distracted = False\n",
    "\n",
    "# Metrics to track distraction behavior\n",
    "content_repetition = {}\n",
    "time_between_switches = []\n",
    "scrolling_times = []\n",
    "switch_count = 0\n",
    "\n",
    "# Example list of user's 'drug of choice' content\n",
    "drug_of_choice = ['short_video_platform', 'gaming_stream', 'reality_shows']\n",
    "\n",
    "# Function to track if the user becomes fully distracted\n",
    "def track_full_distraction(data):\n",
    "    global full_distraction_start_time, fully_distracted\n",
    "    start_time = time.time()\n",
    "\n",
    "    for item in data:\n",
    "        content_type = item['content_type']\n",
    "        watch_time = item['watch_time']\n",
    "        scroll_time = item['scroll_time']\n",
    "\n",
    "        # Track scrolling times\n",
    "        scrolling_times.append(scroll_time)\n",
    "\n",
    "        # Track content repetition\n",
    "        content_repetition[content_type] = content_repetition.get(content_type, 0) + 1\n",
    "\n",
    "        # Start tracking distraction if user indulges in drug of choice or shows distraction pattern\n",
    "        if full_distraction_start_time is None and (content_type in drug_of_choice or shows_distraction_pattern()):\n",
    "            full_distraction_start_time = time.time()\n",
    "            print(f\"User started slipping into full distraction at {time.ctime(full_distraction_start_time)}\")\n",
    "\n",
    "        # Check if the user remains distracted for more than 45 minutes\n",
    "        if full_distraction_start_time and (time.time() - full_distraction_start_time) > 2700:\n",
    "            fully_distracted = True\n",
    "            print(\"User has entered a fully distracted state.\")\n",
    "            break\n",
    "\n",
    "        # Reset if user returns to productive content\n",
    "        if content_type not in drug_of_choice and not shows_distraction_pattern():\n",
    "            print(\"User returned to balanced content. Resetting full distraction tracking.\")\n",
    "            reset_distraction_tracking()\n",
    "\n",
    "# Helper function to determine if user shows distraction pattern\n",
    "def shows_distraction_pattern():\n",
    "    return switch_count > 5 or sum(scrolling_times[-5:]) > 300 or max(content_repetition.values(), default=0) > 3\n",
    "\n",
    "# Helper function to reset tracking variables\n",
    "def reset_distraction_tracking():\n",
    "    global full_distraction_start_time, fully_distracted, switch_count\n",
    "    full_distraction_start_time = None\n",
    "    fully_distracted = False\n",
    "    switch_count = 0\n",
    "    time_between_switches.clear()\n",
    "    scrolling_times.clear()\n",
    "    content_repetition.clear()\n",
    "\n",
    "# Example synthetic data to simulate user behavior\n",
    "data = [\n",
    "    {'content_type': 'educational', 'watch_time': 600, 'scroll_time': 30},\n",
    "    {'content_type': 'gaming_stream', 'watch_time': 1200, 'scroll_time': 60},\n",
    "    {'content_type': 'short_video_platform', 'watch_time': 1800, 'scroll_time': 90},\n",
    "]\n",
    "\n",
    "track_full_distraction(data)\n"
   ]
  },
  {
   "cell_type": "code",
   "execution_count": null,
   "id": "cb0790ac-9110-40b9-a478-951e67e6da04",
   "metadata": {},
   "outputs": [],
   "source": []
  }
 ],
 "metadata": {
  "kernelspec": {
   "display_name": "Python 3 (ipykernel)",
   "language": "python",
   "name": "python3"
  },
  "language_info": {
   "codemirror_mode": {
    "name": "ipython",
    "version": 3
   },
   "file_extension": ".py",
   "mimetype": "text/x-python",
   "name": "python",
   "nbconvert_exporter": "python",
   "pygments_lexer": "ipython3",
   "version": "3.12.3"
  }
 },
 "nbformat": 4,
 "nbformat_minor": 5
}
