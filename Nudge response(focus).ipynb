{
 "cells": [
  {
   "cell_type": "code",
   "execution_count": 1,
   "id": "22443b95-6817-42c8-882b-2dbacc165f2a",
   "metadata": {},
   "outputs": [
    {
     "name": "stdout",
     "output_type": "stream",
     "text": [
      "\n",
      "*** Gentle Nudge ***\n",
      "Would you like to resume where you left off? [Educational Video on AI]\n",
      "Here’s something fresh and exciting in your area of interest: New content related to Educational Video on AI\n",
      "Or would you like to continue the video you first switched to? [Funny Cat Compilation]\n"
     ]
    }
   ],
   "source": [
    "import time\n",
    "\n",
    "# Function to nudge user back to productive content\n",
    "def nudge_user(previous_focused_content, first_distracting_content):\n",
    "    print(\"\\n*** Gentle Nudge ***\")\n",
    "    \n",
    "    # Option 1: Ask if they want to resume the productive content\n",
    "    print(f\"Would you like to resume where you left off? [{previous_focused_content}]\")\n",
    "    \n",
    "    # Option 2: Highlight productive content with novelty-based recommendations\n",
    "    recommendations = get_novel_recommendations(previous_focused_content)\n",
    "    print(f\"Here’s something fresh and exciting in your area of interest: {recommendations}\")\n",
    "    \n",
    "    # Option 3: Ask if they want to continue the first entertainment content they switched to\n",
    "    print(f\"Or would you like to continue the video you first switched to? [{first_distracting_content}]\")\n",
    "\n",
    "# Mock function to get novelty recommendations\n",
    "def get_novel_recommendations(content):\n",
    "    return f\"New content related to {content}\"  # Placeholder for recommendation system\n",
    "\n",
    "# Example usage\n",
    "if __name__ == \"__main__\":\n",
    "    previous_focused_content = \"Educational Video on AI\"\n",
    "    first_distracting_content = \"Funny Cat Compilation\"\n",
    "    nudge_user(previous_focused_content, first_distracting_content)\n"
   ]
  },
  {
   "cell_type": "code",
   "execution_count": null,
   "id": "26c7d563-d093-4f40-abb3-1e054f68e918",
   "metadata": {},
   "outputs": [],
   "source": []
  }
 ],
 "metadata": {
  "kernelspec": {
   "display_name": "Python 3 (ipykernel)",
   "language": "python",
   "name": "python3"
  },
  "language_info": {
   "codemirror_mode": {
    "name": "ipython",
    "version": 3
   },
   "file_extension": ".py",
   "mimetype": "text/x-python",
   "name": "python",
   "nbconvert_exporter": "python",
   "pygments_lexer": "ipython3",
   "version": "3.12.3"
  }
 },
 "nbformat": 4,
 "nbformat_minor": 5
}
